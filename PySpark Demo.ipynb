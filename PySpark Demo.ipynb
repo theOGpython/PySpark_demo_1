{
 "cells": [
  {
   "cell_type": "markdown",
   "metadata": {},
   "source": [
    "### Project Prerequisites\n",
    "#### Hihlighted below are the prerequisites\n",
    "- pyspark\n",
    "- gp\n",
    "- The dataset is Iowa Liquor sales data for Jan 2021 - Jan 2022. Link ---> 'https://www.kaggle.com/gabrielramos87/iowa-sales-liquor-jan-2021jan-2022?select=Iowa+Liquor+Sales+%28Jan+2021-Jan+2022%29.csv'"
   ]
  },
  {
   "cell_type": "code",
   "execution_count": 1,
   "metadata": {},
   "outputs": [],
   "source": [
    "from pyspark.sql import SparkSession\n",
    "from pyspark import SparkContext, SparkConf, SQLContext\n",
    "from pyspark.sql import functions as f\n",
    "from sqlalchemy import create_engine\n",
    "from getpass import getpass as gp\n",
    "import os"
   ]
  },
  {
   "cell_type": "markdown",
   "metadata": {},
   "source": [
    "### Configuration to create a Spark Session"
   ]
  },
  {
   "cell_type": "code",
   "execution_count": 5,
   "metadata": {},
   "outputs": [],
   "source": [
    "appName = \"PySpark Session\" \n",
    "master = \"local[*]\"\n",
    "conf = SparkConf() \\\n",
    "    .setAppName(appName) \\\n",
    "    .setMaster(master) \\\n",
    "    .set(\"spark.driver.extraClassPath\",\"C:\\\\spark-3.2.1\\jars\" #This is the path of spark jars folder\n",
    "        )"
   ]
  },
  {
   "cell_type": "code",
   "execution_count": 6,
   "metadata": {
    "scrolled": true
   },
   "outputs": [
    {
     "name": "stderr",
     "output_type": "stream",
     "text": [
      "C:\\ProgramData\\Anaconda3\\lib\\site-packages\\pyspark\\sql\\context.py:77: FutureWarning: Deprecated in 3.0.0. Use SparkSession.builder.getOrCreate() instead.\n",
      "  warnings.warn(\n"
     ]
    }
   ],
   "source": [
    "sc = SparkContext(conf=conf)\n",
    "sqlContext = SQLContext(sc)\n",
    "spark = sqlContext.sparkSession"
   ]
  },
  {
   "cell_type": "markdown",
   "metadata": {},
   "source": [
    "### Loading the csv file to a spark dataframe"
   ]
  },
  {
   "cell_type": "code",
   "execution_count": 7,
   "metadata": {},
   "outputs": [],
   "source": [
    "df = spark.read \\\n",
    "     .option(\"header\",\"true\") \\\n",
    "     .csv('C:\\PySpark_Demo\\Data-Engineering-101\\Iowa_liquor_sales.csv')"
   ]
  },
  {
   "cell_type": "code",
   "execution_count": 8,
   "metadata": {},
   "outputs": [
    {
     "name": "stdout",
     "output_type": "stream",
     "text": [
      "+-----------------------+----------+------------+--------------------+--------------------+---------------+--------+--------------------+-------------+----------+---------+--------------------+-------------+--------------------+-----------+--------------------+----+----------------+-----------------+-------------------+------------+------------+------------------+-------------------+\n",
      "|invoice_and_item_number|      date|store_number|          store_name|             address|           city|zip_code|      store_location|county_number|    county| category|       category_name|vendor_number|         vendor_name|item_number|    item_description|pack|bottle_volume_ml|state_bottle_cost|state_bottle_retail|bottles_sold|sale_dollars|volume_sold_liters|volume_sold_gallons|\n",
      "+-----------------------+----------+------------+--------------------+--------------------+---------------+--------+--------------------+-------------+----------+---------+--------------------+-------------+--------------------+-----------+--------------------+----+----------------+-----------------+-------------------+------------+------------+------------------+-------------------+\n",
      "|        INV-33179700135|2021-01-04|        2576|Hy-Vee Wine and S...|      1250 N Lake St|     Storm Lake| 50588.0|POINT (-95.200758...|           11|BUENA VIST|1081600.0|     Whiskey Liqueur|        421.0|SAZERAC COMPANY  INC|      64870|Fireball Cinnamon...|  48|             100|              0.9|               1.35|          48|        64.8|               4.8|               1.26|\n",
      "|        INV-33196200106|2021-01-04|        2649| Hy-Vee #3 / Dubuque|       400 Locust St|        Dubuque| 52001.0|POINT (-90.666497...|           31|   DUBUQUE|1081200.0|      Cream Liqueurs|        300.0|McCormick Distill...|      65200|Tequila Rose Liqueur|  12|             750|             11.5|              17.25|           4|          69|                 3|               0.79|\n",
      "|        INV-33184300011|2021-01-04|        2539|Hy-Vee Food Store...|          640 S. Oak|     Iowa Falls| 50126.0|POINT (-93.262364...|           42|    HARDIN|1031100.0|     American Vodkas|        260.0|     DIAGEO AMERICAS|      38008|  Smirnoff 80prf PET|   6|            1750|            14.75|              22.13|           6|      132.78|              10.5|               2.77|\n",
      "|        INV-33184100015|2021-01-04|        4024|Wal-Mart 1546 / I...|           840 S Oak|     Iowa Falls| 50126.0|POINT (-93.262446...|           42|    HARDIN|1031100.0|     American Vodkas|         55.0|SAZERAC NORTH AME...|      36648|       Caliber Vodka|  12|             750|             3.31|               4.97|          12|       59.64|                 9|               2.37|\n",
      "|        INV-33174200025|2021-01-04|        5385|  Vine Food & Liquor|       2704 Vine St.|West Des Moines| 50265.0|POINT (-93.741511...|           77|      POLK|1012200.0|     Scotch Whiskies|        260.0|     DIAGEO AMERICAS|       4626|Buchanan Deluxe 12YR|  12|             750|            20.99|              31.49|           2|       62.98|               1.5|               0.39|\n",
      "|        INV-33186700007|2021-01-04|        4110|Brothers Market, ...|      706 Highway 57|    Parkersburg| 50665.0|POINT (-92.785196...|           12|    BUTLER|1032100.0|     Imported Vodkas|        115.0|CONSTELLATION BRA...|      34821|        Svedka 80prf|   6|            1750|             13.5|              20.25|           6|       121.5|              10.5|               2.77|\n",
      "|        INV-33197500003|2021-01-04|        4228|Fareway Stores #4...|           501 A Ave|         Vinton| 52349.0|POINT (-92.025603...|            6|    BENTON|1032100.0|     Imported Vodkas|        370.0|   PERNOD RICARD USA|      34006|Absolut Swedish V...|  12|             750|             9.99|              14.99|          12|      179.88|                 9|               2.37|\n",
      "|        INV-33197200010|2021-01-04|        2713|Hy-Vee Dyersville...|    1201 12th Ave SE|     Dyersville| 52040.0|POINT (-91.110798...|           31|   DUBUQUE|1031100.0|     American Vodkas|        434.0|           LUXCO INC|      36308|       Hawkeye Vodka|   6|            1750|             7.17|              10.76|           6|       64.56|              10.5|               2.77|\n",
      "|        INV-33174600126|2021-01-04|        2648|     Hy-Vee #4 / WDM|       555 S 51st St|West Des Moines| 50265.0|POINT (-93.773557...|           77|      POLK|1012200.0|     Scotch Whiskies|        260.0|     DIAGEO AMERICAS|       5318|Johnnie Walker Do...|   6|             750|            24.05|              36.08|           6|      216.48|               4.5|               1.18|\n",
      "|        INV-33202000002|2021-01-04|        5735|Super Saver Liquo...| 1510 A Isett Avenue|      Muscatine| 52761.0|POINT (-91.042755...|           70| MUSCATINE|1091300.0|Neutral Grain Spi...|        346.0|OLE SMOKY DISTILL...|      86739|Ole Smoky Apple P...|   8|              50|             8.75|              13.13|           8|      105.04|               0.4|                0.1|\n",
      "|        INV-33176800008|2021-01-04|        4449|Kum & Go #121 / U...|  12041 Douglas Pkwy|      Urbandale| 50322.0|POINT (-93.782998...|           77|      POLK|1062500.0|        Flavored Rum|         35.0|     BACARDI USA INC|      43051|Bacardi Dragon Berry|  12|             750|             8.26|              12.39|           2|       24.78|               1.5|               0.39|\n",
      "|        INV-33179700143|2021-01-04|        2576|Hy-Vee Wine and S...|      1250 N Lake St|     Storm Lake| 50588.0|POINT (-95.200758...|           11|BUENA VIST|1081200.0|      Cream Liqueurs|        260.0|     DIAGEO AMERICAS|      68036|Baileys Original ...|  12|             750|            16.49|              24.74|           4|       98.96|                 3|               0.79|\n",
      "|        INV-33197300019|2021-01-04|        4182|Fareway Stores #0...|   1207  12th Ave SE|     Dyersville| 52040.0|POINT (-91.111904...|           31|   DUBUQUE|1031100.0|     American Vodkas|        301.0|FIFTH GENERATION INC|      38178|Titos Handmade Vodka|   6|            1750|               19|               28.5|          30|         855|              52.5|              13.86|\n",
      "|        INV-33193600028|2021-01-04|        5176|Smokin' Joe's #15...|  455 Edgewood Rd NW|   Cedar Rapids| 52405.0|POINT (-91.715903...|           57|      LINN|1081400.0|   American Schnapps|        380.0|   Phillips Beverage|      84617|Phillips Root Bee...|  12|            1000|              5.5|               8.25|          12|          99|                12|               3.17|\n",
      "|        INV-33188900158|2021-01-04|        2616|Hy-Vee Food and D...|    901 South 4th St|        Clinton| 52732.0|POINT (-90.193204...|           23|   CLINTON|1011400.0|  Tennessee Whiskies|        260.0|     DIAGEO AMERICAS|      26656|   George Dickel #12|  12|             750|             13.5|              20.25|           4|          81|                 3|               0.79|\n",
      "|        INV-33170400225|2021-01-04|        2552|Hy-Vee Food Store...|20 Wilson Avenue ...|   Cedar Rapids| 52404.0|POINT (-91.658577...|           57|      LINN|1051100.0|   American Brandies|        434.0|           LUXCO INC|      55506|Paramount Cherry ...|  12|             750|              5.5|               8.25|           3|       24.75|              2.25|               0.59|\n",
      "|        INV-33175800061|2021-01-04|        5092|Kum & Go #3035 / ...|       7265 Vista Dr|West Des Moines| 50265.0|POINT (-93.807839...|           77|      POLK|1081400.0|   American Schnapps|         55.0|SAZERAC NORTH AME...|      84172|     99 Bananas Mini|  10|              50|             5.16|               7.74|           3|       23.22|              0.15|               0.03|\n",
      "|        INV-33178600010|2021-01-04|        5663|Lake View Redempt...|          502 5th St|      Lake View| 51450.0|POINT (-95.051539...|           81|       SAC|1081400.0|   American Schnapps|         65.0|     Jim Beam Brands|      82867|Dekuyper Watermel...|  12|            1000|             7.87|              11.81|           3|       35.43|                 3|               0.79|\n",
      "|        INV-33193800019|2021-01-04|        5687|Casey's General S...|    4560 16th Ave SW|   Cedar Rapids| 52404.0|POINT (-91.729434...|           57|      LINN|1012100.0|   Canadian Whiskies|        260.0|     DIAGEO AMERICAS|      10807|Crown Royal Regal...|  12|             750|            15.59|              23.39|          12|      280.68|                 9|               2.37|\n",
      "|        INV-33179700037|2021-01-04|        2576|Hy-Vee Wine and S...|      1250 N Lake St|     Storm Lake| 50588.0|POINT (-95.200758...|           11|BUENA VIST|1011200.0|Straight Bourbon ...|        259.0|  Heaven Hill Brands|      17956| Evan Williams Black|  12|             750|                8|                 12|           2|          24|               1.5|               0.39|\n",
      "+-----------------------+----------+------------+--------------------+--------------------+---------------+--------+--------------------+-------------+----------+---------+--------------------+-------------+--------------------+-----------+--------------------+----+----------------+-----------------+-------------------+------------+------------+------------------+-------------------+\n",
      "only showing top 20 rows\n",
      "\n"
     ]
    }
   ],
   "source": [
    "df.show()"
   ]
  },
  {
   "cell_type": "markdown",
   "metadata": {},
   "source": [
    "### Creating a Temporary view so I can query the table"
   ]
  },
  {
   "cell_type": "code",
   "execution_count": 9,
   "metadata": {},
   "outputs": [],
   "source": [
    "df.createOrReplaceTempView(\"Iowa_sales\")"
   ]
  },
  {
   "cell_type": "code",
   "execution_count": 10,
   "metadata": {},
   "outputs": [
    {
     "name": "stdout",
     "output_type": "stream",
     "text": [
      "root\n",
      " |-- invoice_and_item_number: string (nullable = true)\n",
      " |-- date: string (nullable = true)\n",
      " |-- store_number: string (nullable = true)\n",
      " |-- store_name: string (nullable = true)\n",
      " |-- address: string (nullable = true)\n",
      " |-- city: string (nullable = true)\n",
      " |-- zip_code: string (nullable = true)\n",
      " |-- store_location: string (nullable = true)\n",
      " |-- county_number: string (nullable = true)\n",
      " |-- county: string (nullable = true)\n",
      " |-- category: string (nullable = true)\n",
      " |-- category_name: string (nullable = true)\n",
      " |-- vendor_number: string (nullable = true)\n",
      " |-- vendor_name: string (nullable = true)\n",
      " |-- item_number: string (nullable = true)\n",
      " |-- item_description: string (nullable = true)\n",
      " |-- pack: string (nullable = true)\n",
      " |-- bottle_volume_ml: string (nullable = true)\n",
      " |-- state_bottle_cost: string (nullable = true)\n",
      " |-- state_bottle_retail: string (nullable = true)\n",
      " |-- bottles_sold: string (nullable = true)\n",
      " |-- sale_dollars: string (nullable = true)\n",
      " |-- volume_sold_liters: string (nullable = true)\n",
      " |-- volume_sold_gallons: string (nullable = true)\n",
      "\n"
     ]
    }
   ],
   "source": [
    "df.printSchema()"
   ]
  },
  {
   "cell_type": "markdown",
   "metadata": {},
   "source": [
    "###  Performing some transformation ie Converting data types"
   ]
  },
  {
   "cell_type": "code",
   "execution_count": 11,
   "metadata": {},
   "outputs": [],
   "source": [
    "Iowa_table_1 = spark.sql(\"\"\"\n",
    "SELECT  CAST(invoice_and_item_number as STRING), \n",
    "        CAST(date as DATE), \n",
    "        CAST(store_number as INT),\n",
    "        CAST(store_name as STRING), \n",
    "        CAST(address as STRING),\n",
    "        CAST(city as STRING), \n",
    "        CAST(zip_code as FLOAT), \n",
    "        CAST(store_location as STRING),\n",
    "        CAST(county_number as INT), \n",
    "        CAST(county as STRING), \n",
    "        CAST(category as INT),\n",
    "        CAST(category_name as STRING), \n",
    "        CAST(vendor_number as NUMERIC), \n",
    "        CAST(vendor_name as STRING), \n",
    "        CAST(item_number as INT),\n",
    "        CAST(item_description as STRING),\n",
    "        CAST(pack as INT), \n",
    "        CAST(bottle_volume_ml as INT), \n",
    "        CAST(state_bottle_cost as FLOAT), \n",
    "        CAST(state_bottle_retail as FLOAT), \n",
    "        CAST(bottles_sold as INT), \n",
    "        CAST(sale_dollars as FLOAT), \n",
    "        CAST(volume_sold_liters as FLOAT),\n",
    "        CAST(volume_sold_gallons as FLOAT)\n",
    "\n",
    "FROM Iowa_sales\n",
    "\"\"\")"
   ]
  },
  {
   "cell_type": "markdown",
   "metadata": {},
   "source": [
    "### Writing the transformed table to a postgres database"
   ]
  },
  {
   "cell_type": "code",
   "execution_count": 12,
   "metadata": {},
   "outputs": [],
   "source": [
    "Iowa_table_1.write.format(\"jdbc\") \\\n",
    "   .mode(\"overwrite\") \\\n",
    "   .option(\"url\", \"jdbc:postgresql://localhost:5432/postgres\") \\\n",
    "   .option(\"dbtable\", \"public.iowa_table_1\") \\\n",
    "   .option(\"user\", user) \\\n",
    "   .option(\"password\", password) \\\n",
    "   .save()"
   ]
  },
  {
   "cell_type": "markdown",
   "metadata": {},
   "source": [
    "### Writing aggregated tables to the database"
   ]
  },
  {
   "cell_type": "code",
   "execution_count": 17,
   "metadata": {},
   "outputs": [],
   "source": [
    "monthly_sales_gallons = spark.sql(\"\"\"\n",
    "SELECT \n",
    "    date,\n",
    "    SUM(volume_sold_gallons) as monthly_sales_gallons\n",
    "FROM Iowa_sales\n",
    "GROUP BY date\n",
    "ORDER BY date\n",
    "\"\"\")"
   ]
  },
  {
   "cell_type": "code",
   "execution_count": 18,
   "metadata": {},
   "outputs": [],
   "source": [
    "monthly_sales_gallons.write.format(\"jdbc\") \\\n",
    "   .mode(\"overwrite\") \\\n",
    "   .option(\"url\", \"jdbc:postgresql://localhost:5432/postgres\") \\\n",
    "   .option(\"dbtable\", \"public.monthly_sales_agg\") \\\n",
    "   .option(\"user\", user) \\\n",
    "   .option(\"password\", password) \\\n",
    "   .save()"
   ]
  },
  {
   "cell_type": "code",
   "execution_count": 19,
   "metadata": {
    "scrolled": true
   },
   "outputs": [],
   "source": [
    "sales_by_store = spark.sql(\"\"\"\n",
    "SELECT \n",
    "    store_name,\n",
    "    SUM(volume_sold_gallons) as sales_by_store\n",
    "FROM Iowa_sales\n",
    "GROUP BY store_name\n",
    "ORDER BY SUM(volume_sold_gallons) DESC\n",
    "\"\"\")"
   ]
  },
  {
   "cell_type": "code",
   "execution_count": 20,
   "metadata": {},
   "outputs": [],
   "source": [
    "sales_by_store.write.format(\"jdbc\") \\\n",
    "   .mode(\"overwrite\") \\\n",
    "   .option(\"url\", \"jdbc:postgresql://localhost:5432/postgres\") \\\n",
    "   .option(\"dbtable\", \"public.store_sales_agg\") \\\n",
    "   .option(\"user\", user) \\\n",
    "   .option(\"password\", password) \\\n",
    "   .save()"
   ]
  },
  {
   "cell_type": "code",
   "execution_count": 21,
   "metadata": {},
   "outputs": [],
   "source": [
    "#Sales \n",
    "top_sales_per_day_store = spark.sql(\"\"\"\n",
    "SELECT invoice_and_item_number,store_name, date, sale_dollars,\n",
    "        ROW_NUMBER() OVER (PARTITION BY store_name,date ORDER BY sale_dollars DESC) rank_\n",
    "FROM Iowa_sales\n",
    "\"\"\")"
   ]
  },
  {
   "cell_type": "code",
   "execution_count": 23,
   "metadata": {},
   "outputs": [],
   "source": [
    "top_sales_per_day_store.write.format(\"jdbc\") \\\n",
    "   .mode(\"overwrite\") \\\n",
    "   .option(\"url\", \"jdbc:postgresql://localhost:5432/postgres\") \\\n",
    "   .option(\"dbtable\", \"public.top_sales_per_day\") \\\n",
    "   .option(\"user\", user) \\\n",
    "   .option(\"password\", password) \\\n",
    "   .save()"
   ]
  }
 ],
 "metadata": {
  "kernelspec": {
   "display_name": "Python 3",
   "language": "python",
   "name": "python3"
  },
  "language_info": {
   "codemirror_mode": {
    "name": "ipython",
    "version": 3
   },
   "file_extension": ".py",
   "mimetype": "text/x-python",
   "name": "python",
   "nbconvert_exporter": "python",
   "pygments_lexer": "ipython3",
   "version": "3.8.5"
  }
 },
 "nbformat": 4,
 "nbformat_minor": 5
}
